{
 "cells": [
  {
   "cell_type": "code",
   "execution_count": null,
   "id": "3c108da5-f55b-46b1-a8de-b8e8ea6a5070",
   "metadata": {},
   "outputs": [],
   "source": []
  },
  {
   "cell_type": "code",
   "execution_count": null,
   "id": "92fd5537-ee7e-4774-bfe7-4e9f046b3491",
   "metadata": {},
   "outputs": [],
   "source": [
    "# Write a Python program to check if a given number is positive or negative."
   ]
  },
  {
   "cell_type": "code",
   "execution_count": 4,
   "id": "30006e06-a76b-4111-a8f0-a66970cb7055",
   "metadata": {},
   "outputs": [
    {
     "name": "stdin",
     "output_type": "stream",
     "text": [
      "enter a number: -45\n"
     ]
    },
    {
     "name": "stdout",
     "output_type": "stream",
     "text": [
      "-45 the number is negative\n"
     ]
    }
   ],
   "source": [
    "num=int(input(\"enter a number:\"))\n",
    "\n",
    "if num>=0:\n",
    "    print(num, \"the number is postive\")\n",
    "else:\n",
    "    print(num, \"the number is negative\")"
   ]
  },
  {
   "cell_type": "code",
   "execution_count": null,
   "id": "9447b0ca-c66f-4112-81f0-56eabe142d12",
   "metadata": {},
   "outputs": [],
   "source": []
  },
  {
   "cell_type": "code",
   "execution_count": 5,
   "id": "433c0eea-64d4-49c4-94f3-6a24af339411",
   "metadata": {},
   "outputs": [],
   "source": [
    "# Create a program that determines if a person is eligible to vote based on their age."
   ]
  },
  {
   "cell_type": "code",
   "execution_count": 11,
   "id": "d13575e4-7846-4e1a-8c04-3dd375e2a723",
   "metadata": {},
   "outputs": [
    {
     "name": "stdin",
     "output_type": "stream",
     "text": [
      "enter your age: 22\n"
     ]
    },
    {
     "name": "stdout",
     "output_type": "stream",
     "text": [
      "your age is: 22  you are eligible to vote\n"
     ]
    }
   ],
   "source": [
    "age=int(input(\"enter your age:\"))\n",
    "\n",
    "if age>=18:\n",
    "    print(\"your age is:\",age,\" you are eligible to vote\")\n",
    "    \n",
    "else:\n",
    "    print(\"your age is:\",age,\" you are not eligible to vote\")"
   ]
  },
  {
   "cell_type": "code",
   "execution_count": null,
   "id": "c17440f3-d0cc-4194-a446-c9e42a0aab8d",
   "metadata": {},
   "outputs": [],
   "source": []
  },
  {
   "cell_type": "code",
   "execution_count": null,
   "id": "cffb2eb0-7f1c-423b-8fcc-1ae793381578",
   "metadata": {},
   "outputs": [],
   "source": [
    "# Develop a program to find the maximum of two numbers using if-else statements."
   ]
  },
  {
   "cell_type": "code",
   "execution_count": 15,
   "id": "198822c7-ab3e-48c4-9a70-3989ee075568",
   "metadata": {},
   "outputs": [
    {
     "name": "stdin",
     "output_type": "stream",
     "text": [
      "Enter a number: 7\n",
      "Enter another number: 10\n"
     ]
    },
    {
     "name": "stdout",
     "output_type": "stream",
     "text": [
      "The maximum of two numbers is: 10\n"
     ]
    }
   ],
   "source": [
    "num1=int(input(\"Enter a number:\"))\n",
    "\n",
    "num2=int(input(\"Enter another number:\"))\n",
    "\n",
    "if num1>=num2:\n",
    "    maximum=num1\n",
    "    \n",
    "else:\n",
    "    maximum=num2\n",
    "    \n",
    "print(\"The maximum of two numbers is:\",maximum)    "
   ]
  },
  {
   "cell_type": "code",
   "execution_count": null,
   "id": "790a068c-38c3-482d-a1e0-f81463118274",
   "metadata": {},
   "outputs": [],
   "source": []
  },
  {
   "cell_type": "code",
   "execution_count": null,
   "id": "2cfda708-d6ae-4456-8820-21314d988244",
   "metadata": {},
   "outputs": [],
   "source": [
    "# Write a Python script to classify a given year as a leap year or not."
   ]
  },
  {
   "cell_type": "code",
   "execution_count": 44,
   "id": "ba13e9b9-699c-4a09-a622-e216c5c98d46",
   "metadata": {},
   "outputs": [
    {
     "name": "stdin",
     "output_type": "stream",
     "text": [
      "Enter the year: 2024\n"
     ]
    },
    {
     "name": "stdout",
     "output_type": "stream",
     "text": [
      "2024  is a leap year\n"
     ]
    }
   ],
   "source": [
    "year=int(input(\"Enter the year:\"))\n",
    "\n",
    "if (year % 4==0) and (year % 100!=0) or (year % 400==0):\n",
    "    print(year,\" is a leap year\")\n",
    "          \n",
    "else:\n",
    "          print(year, \" is not a leap year\")"
   ]
  },
  {
   "cell_type": "code",
   "execution_count": null,
   "id": "8a5e38dd-8a4c-4ff5-8fb4-aa79457d6449",
   "metadata": {},
   "outputs": [],
   "source": []
  },
  {
   "cell_type": "code",
   "execution_count": null,
   "id": "cafe8217-3b14-415a-bc13-13d059e1f19b",
   "metadata": {},
   "outputs": [],
   "source": [
    "# Create a program that checks whether a character is a vowel or a consonant."
   ]
  },
  {
   "cell_type": "code",
   "execution_count": 35,
   "id": "e6ce7e69-006e-49df-bb5b-17d48c32d52c",
   "metadata": {},
   "outputs": [
    {
     "name": "stdin",
     "output_type": "stream",
     "text": [
      "enter a character: E\n"
     ]
    },
    {
     "name": "stdout",
     "output_type": "stream",
     "text": [
      "E is a viowel\n"
     ]
    }
   ],
   "source": [
    "char=str(input(\"enter a character:\"))\n",
    "\n",
    "viowel=[\"a\",\"e\",\"i\",\"o\",\"u\",\"A\",\"E\",\"I\",\"O\",\"U\"]\n",
    "\n",
    "if char in viowel:\n",
    "    print(char, \"is a viowel\")\n",
    "    \n",
    "else:\n",
    "    print(char, \"is a consonant\")"
   ]
  },
  {
   "cell_type": "code",
   "execution_count": null,
   "id": "468003a6-5fc3-4445-a8b6-f4803b592e08",
   "metadata": {},
   "outputs": [],
   "source": []
  },
  {
   "cell_type": "code",
   "execution_count": null,
   "id": "821e883a-f93d-48d6-ae3c-1d72217f901b",
   "metadata": {},
   "outputs": [],
   "source": [
    "# Write a program to find the largest among three numbers using nested if-else statements."
   ]
  },
  {
   "cell_type": "code",
   "execution_count": 41,
   "id": "2095ed79-a0cc-4d2b-b110-a7aaa5eaae99",
   "metadata": {},
   "outputs": [
    {
     "name": "stdin",
     "output_type": "stream",
     "text": [
      "Enter 1st number: 45\n",
      "Enter 2nd number: 55\n",
      "Enter 3rd number: 35\n"
     ]
    },
    {
     "name": "stdout",
     "output_type": "stream",
     "text": [
      "The largest number is: 55\n"
     ]
    }
   ],
   "source": [
    "no1=int(input(\"Enter 1st number:\"))\n",
    "no2=int(input(\"Enter 2nd number:\"))\n",
    "no3=int(input(\"Enter 3rd number:\")) \n",
    "        \n",
    "if no1>=no2:\n",
    "        if no1>=no3:\n",
    "            print(\"The largest number is:\",no1)\n",
    "        else:\n",
    "            print(\"The largest number is:\",no3)\n",
    "        \n",
    "else:\n",
    "        if no2>=no3:\n",
    "            print(\"The largest number is:\",no2)\n",
    "        else:\n",
    "            print(\"The largest number is:\",no3)\n",
    "        \n",
    "        \n",
    "        "
   ]
  },
  {
   "cell_type": "code",
   "execution_count": null,
   "id": "d01ed455-f3a2-4b6f-92ec-0ad376762854",
   "metadata": {},
   "outputs": [],
   "source": []
  },
  {
   "cell_type": "code",
   "execution_count": null,
   "id": "000a63f2-e92b-4031-9ad2-b1dda5afdd72",
   "metadata": {},
   "outputs": [],
   "source": [
    "# Implement a program to determine if a triangle is equilateral, isosceles, or scalene."
   ]
  },
  {
   "cell_type": "code",
   "execution_count": 50,
   "id": "88076578-fbcc-49da-9197-19c80d13de9b",
   "metadata": {},
   "outputs": [
    {
     "name": "stdin",
     "output_type": "stream",
     "text": [
      "Enter the length of the side: 4\n",
      "Enter the length of the side: 8\n",
      "Enter the length of the side: 6\n"
     ]
    },
    {
     "name": "stdout",
     "output_type": "stream",
     "text": [
      "Scalene Triangle\n"
     ]
    }
   ],
   "source": [
    "a=float(input(\"Enter the length of the side:\"))\n",
    "b=float(input(\"Enter the length of the side:\"))\n",
    "c=float(input(\"Enter the length of the side:\"))\n",
    "\n",
    "if (a+b>c) and (b+c>a) and (c+a>b):\n",
    "    if a==b==c:\n",
    "        print(\"Equilateral Triangle\")\n",
    "        \n",
    "    elif a==b or b==c or c==a:\n",
    "        print(\"Isosceles Triangle\")\n",
    "        \n",
    "    else:\n",
    "        print(\"Scalene Triangle\")\n",
    "        \n",
    "        \n",
    "else:\n",
    "    print(\"not a valid triangle\")"
   ]
  },
  {
   "cell_type": "code",
   "execution_count": null,
   "id": "0abaf4c9-b821-460d-bcab-0a5d968f3fe4",
   "metadata": {},
   "outputs": [],
   "source": []
  },
  {
   "cell_type": "code",
   "execution_count": 51,
   "id": "a8148f73-4b78-4823-8735-ec4fa58bcbe8",
   "metadata": {},
   "outputs": [],
   "source": [
    "# Write a Python script to determine if a number is positive, negative, or zero."
   ]
  },
  {
   "cell_type": "code",
   "execution_count": 64,
   "id": "54331409-fd53-4b07-9641-4f2882ce1c68",
   "metadata": {},
   "outputs": [
    {
     "name": "stdin",
     "output_type": "stream",
     "text": [
      "Enter a number: 64\n"
     ]
    },
    {
     "name": "stdout",
     "output_type": "stream",
     "text": [
      "64 is a positive number\n"
     ]
    }
   ],
   "source": [
    "numb=int(input(\"Enter a number:\"))\n",
    "\n",
    "if numb>=0:\n",
    "    if numb==0:\n",
    "        print(numb, \"is zero\")\n",
    "    else:\n",
    "        print(numb, \"is a positive number\")\n",
    "        \n",
    "else:\n",
    "    print(numb, \"is a negative number\")\n",
    "    "
   ]
  },
  {
   "cell_type": "code",
   "execution_count": null,
   "id": "e88f6e59-f77f-49ec-b6ac-e7926fceaff9",
   "metadata": {},
   "outputs": [],
   "source": []
  },
  {
   "cell_type": "code",
   "execution_count": 65,
   "id": "1419fa41-2d55-4069-a527-a3db01e6b20e",
   "metadata": {},
   "outputs": [],
   "source": [
    "# Create a program to check if a person is a teenager (between 13 and 19 years old)."
   ]
  },
  {
   "cell_type": "code",
   "execution_count": 81,
   "id": "e7c5b00e-3584-49fc-9d57-587065792ea3",
   "metadata": {},
   "outputs": [
    {
     "name": "stdin",
     "output_type": "stream",
     "text": [
      "Enter Your Age: 17\n"
     ]
    },
    {
     "name": "stdout",
     "output_type": "stream",
     "text": [
      "17.0 is a teenager\n"
     ]
    }
   ],
   "source": [
    "Age=float(input(\"Enter Your Age:\"))\n",
    "\n",
    "if Age>=13:\n",
    "    if  Age<=19:\n",
    "        print(Age, \"is a teenager\")\n",
    "    else:\n",
    "        print(Age, \"is not a teenager but an Adult\")\n",
    "        \n",
    "else:\n",
    "    print(Age, \"is not a teenager but a child\")\n",
    "    \n",
    "\n"
   ]
  },
  {
   "cell_type": "code",
   "execution_count": null,
   "id": "887e78bf-7543-4b11-baef-4501409ad6e2",
   "metadata": {},
   "outputs": [],
   "source": []
  },
  {
   "cell_type": "code",
   "execution_count": 82,
   "id": "1511b336-c094-4117-a2ee-9ec7e1bf5335",
   "metadata": {},
   "outputs": [],
   "source": [
    "# Write a Python program to assign grades based on different ranges of scores using elif statements."
   ]
  },
  {
   "cell_type": "code",
   "execution_count": 89,
   "id": "9d37f1a4-1030-4484-bf8d-9f59259deb38",
   "metadata": {},
   "outputs": [
    {
     "name": "stdin",
     "output_type": "stream",
     "text": [
      "Enter Your Marks: 75\n"
     ]
    },
    {
     "name": "stdout",
     "output_type": "stream",
     "text": [
      "Your marks is: 75.0 you have secured grade: A\n"
     ]
    }
   ],
   "source": [
    "marks=float(input(\"Enter Your Marks:\"))\n",
    "\n",
    "if marks>=90:\n",
    "    print(\"Your marks is:\",marks, \"you have secured grade: A++\")\n",
    "    \n",
    "elif marks>=80 and marks<90:\n",
    "    print(\"Your marks is:\",marks, \"you have secured grade: A+\")\n",
    "    \n",
    "elif marks>=70 and marks<80:\n",
    "    print(\"Your marks is:\",marks, \"you have secured grade: A\")\n",
    "    \n",
    "elif marks>=60 and marks<70:\n",
    "    print(\"Your marks is:\",marks, \"you have secured grade: B\")\n",
    "    \n",
    "elif marks>=50 and marks<60:\n",
    "    print(\"Your marks is:\",marks, \"you have secured grade: C\")\n",
    "    \n",
    "elif marks>=40 and marks<50:\n",
    "    print(\"Your marks is:\",marks, \"you have secured grade: D\")\n",
    "    \n",
    "else:\n",
    "    print(\"Your marks is:\",marks, \"you are unable to pass the exam\")\n",
    "    \n",
    "    "
   ]
  },
  {
   "cell_type": "code",
   "execution_count": null,
   "id": "20683b8d-1d73-44e5-87b3-daba8696402f",
   "metadata": {},
   "outputs": [],
   "source": []
  }
 ],
 "metadata": {
  "kernelspec": {
   "display_name": "Python 3 (ipykernel)",
   "language": "python",
   "name": "python3"
  },
  "language_info": {
   "codemirror_mode": {
    "name": "ipython",
    "version": 3
   },
   "file_extension": ".py",
   "mimetype": "text/x-python",
   "name": "python",
   "nbconvert_exporter": "python",
   "pygments_lexer": "ipython3",
   "version": "3.10.8"
  }
 },
 "nbformat": 4,
 "nbformat_minor": 5
}
